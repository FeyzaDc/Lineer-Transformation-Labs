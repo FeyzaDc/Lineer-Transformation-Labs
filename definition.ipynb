{
 "cells": [
  {
   "cell_type": "markdown",
   "metadata": {},
   "source": [
    "## Definiton of Linear Transformations\n",
    "A linear transformation is a mapping between vector spaces that preserves addition and scalar multiplication. While the space of linear transformations is large, there are few types of transformations which are typical. We look here at **shears**, **rotations**, **reflections**, **stretch** and **translations**."
   ]
  },
  {
   "cell_type": "markdown",
   "metadata": {},
   "source": [
    "**Stretch**: Stretches or compresses the vector along each axis. The matrix associated with a stretch by a factor k along the x-axis is given by $$ A = \\begin{bmatrix} k & 0\\\\ 0 & 1\\end{bmatrix}$$\n",
    "The matrix associated with a stretch by a factor k along the y-axis is given by $$ A = \\begin{bmatrix} 1 & 0\\\\ 0 & k\\end{bmatrix}$$\n",
    "<br/>\n",
    "<hr style=\"border:1px solid gray\">\n",
    "\n",
    "**Shear**: Slants the vector by a scalar factor horizontally or vertically. The matrix representation is\n",
    "* Horizontal $$ A = \\begin{bmatrix} 1 & k\\\\ 0 & 1\\end{bmatrix}$$  \n",
    "* Vertical $$ A = \\begin{bmatrix} 1 & 0\\\\ k & 1\\end{bmatrix}$$ \n",
    "<br/>\n",
    "<hr style=\"border:1px solid gray\">\n",
    "\n",
    "**Reflection**: Reflects the vector about a line that passes through the origin. \n",
    "* Reflection through x-axis: $$ A = \\begin{bmatrix} 1 & 0\\\\ 0 & -1\\end{bmatrix}$$\n",
    "* Reflection through y-axis: $$ A = \\begin{bmatrix} -1 & 0\\\\ 0 & 1\\end{bmatrix}$$\n",
    "* Reflection through the line x = y: $$ A = \\begin{bmatrix} 0 & 1\\\\ 1 & 0\\end{bmatrix}$$\n",
    "* Reflection through the line x + y = 0: $$ A = \\begin{bmatrix} 0 & -1\\\\ -1 & 0\\end{bmatrix}$$\n",
    "* Reflection through the origin: $$ A = \\begin{bmatrix} -1 & 0\\\\ 0 & -1\\end{bmatrix}$$\n",
    "\n",
    "<br/>\n",
    "<hr style=\"border:1px solid gray\">\n",
    "\n",
    "**Rotation**: Rotates the vector around the origin. A counterclockwise rotation of θ radians has the following matrix representation:\n",
    "$$ G = \\begin{bmatrix} cosθ & -sinθ\\\\ sinθ & cosθ\\end{bmatrix}$$\n",
    "\n",
    "<br/>\n",
    "<hr style=\"border:1px solid gray\">"
   ]
  },
  {
   "cell_type": "markdown",
   "metadata": {},
   "source": [
    "## Examples\n",
    "\n",
    "Examine the below plot. Basic Transformations examples will handled on this plot."
   ]
  },
  {
   "cell_type": "code",
   "execution_count": null,
   "metadata": {},
   "outputs": [],
   "source": [
    "import matplotlib.pyplot as plt\n",
    "import numpy as np\n",
    "\n",
    "coords = np.array([[0, 0], [0.5, 0.5], [0.5, 1.5], [0, 1], [0, 0]])\n",
    "coords = coords.transpose() # Returns a view of the array with axes transposed.\n",
    "x = coords[0,:]\n",
    "y = coords[1,:]\n",
    "\n",
    "A = np.array([[2, 0], [0, 1]])\n",
    "A_coords = A@coords # @ meaning matrix multiplication\n",
    "\n",
    "fig, ax = plt.subplots()\n",
    "ax.plot(x, y, 'ro') # ro meaning 'Red Point'\n",
    "ax.plot(x, y, 'r')"
   ]
  },
  {
   "cell_type": "markdown",
   "metadata": {},
   "source": [
    "### Rotation\n",
    "\n",
    "To rotate vectors in the plane, we choose an angle θ and write down the matrix that represents the rotation counterclockwise by an angle θ. Basic trigonometry can be used to calculate the columns in this case.  \n",
    "\n",
    "In two dimensions, the standard rotation matrix has the following form:\n",
    "$$ R(θ) = \\begin{bmatrix} cosθ & -sinθ\\\\ sinθ & cosθ\\end{bmatrix}$$ \n",
    "$$ Rv = \\begin{bmatrix} cosθ & -sinθ\\\\ sinθ & cosθ\\end{bmatrix}\\begin{bmatrix} x\\\\ y\\end{bmatrix} = \n",
    "\\begin{bmatrix} xcosθ - ysinθ\\\\ xsinθ + ycosθ\\end{bmatrix}$$"
   ]
  },
  {
   "cell_type": "markdown",
   "metadata": {},
   "source": [
    "\n",
    "\n",
    "Let's rotate 30° the matrix above counterclockwise\n"
   ]
  },
  {
   "cell_type": "code",
   "execution_count": null,
   "metadata": {},
   "outputs": [],
   "source": [
    "from math import pi, sin, cos\n",
    "\n",
    "theta = pi/6\n",
    "R = np.array([[cos(theta), -sin(theta)], [sin(theta), cos(theta)]])\n",
    "R_coords = R@coords\n",
    "\n",
    "x_LT3 = R_coords[0,:]\n",
    "y_LT3 = R_coords[1,:]"
   ]
  },
  {
   "cell_type": "code",
   "execution_count": null,
   "metadata": {},
   "outputs": [],
   "source": [
    "# Create the figure and axes objects\n",
    "fig, ax = plt.subplots()\n",
    "\n",
    "# Plot the points.  x and y are original vectors, x_LT1 and y_LT1 are images\n",
    "ax.plot(x, y, 'ro') # ro meaning 'Red Point'\n",
    "ax.plot(x_LT3, y_LT3, 'bo')\n",
    "# Connect the points by lines\n",
    "ax.plot(x, y, 'r')\n",
    "ax.plot(x_LT3, y_LT3,'b')"
   ]
  },
  {
   "cell_type": "markdown",
   "metadata": {},
   "source": [
    "### Reflection\n",
    "\n",
    "Let’s look at another transformation that is defined by the matrix B.\n",
    "\n",
    "$$ B = \\begin{bmatrix} -1 & 0\\\\ \\phantom{-}0 & 1\\end{bmatrix}$$  \n"
   ]
  },
  {
   "cell_type": "code",
   "execution_count": null,
   "metadata": {},
   "outputs": [],
   "source": [
    "B = np.array([[-1,0],[0,1]])\n",
    "B_coords = B@coords\n",
    "\n",
    "x_LT2 = B_coords[0,:]\n",
    "y_LT2 = B_coords[1,:]\n",
    "\n",
    "# Create the figure and axes objects\n",
    "fig, ax = plt.subplots()\n",
    "\n",
    "# Plot the points.  x and y are original vectors, x_LT1 and y_LT1 are images\n",
    "ax.plot(x,y,'ro')\n",
    "ax.plot(x_LT2,y_LT2,'bo')\n",
    "\n",
    "# Connect the points by lines\n",
    "ax.plot(x,y,'r',ls=\"--\")\n",
    "ax.plot(x_LT2,y_LT2,'b')\n"
   ]
  },
  {
   "cell_type": "markdown",
   "metadata": {},
   "source": [
    "### Shear\n",
    "\n",
    "A shear transformation is any transformation that shifts points in a given direction by an amount proportional to their original (signed) distance from the line that is parallel to the movement of direction and that passes through the origin. A vertical shear is expressed as a matrix in the form of the first matrix below, and a horizontal shear with the second where k∈R is called the shearing factor.\n",
    "\n",
    "$$ \\begin{bmatrix} 1 & 0\\\\ k & 1\\end{bmatrix} \\begin{bmatrix} 1 & k\\\\ 0 & 1\\end{bmatrix}$$ \n"
   ]
  },
  {
   "cell_type": "code",
   "execution_count": null,
   "metadata": {},
   "outputs": [],
   "source": [
    "S = np.array([[1,2],[0,1]])\n",
    "S_coords = S@coords\n",
    "\n",
    "x_LT4 = S_coords[0,:]\n",
    "y_LT4 = S_coords[1,:]\n",
    "\n",
    "\n",
    "# Create the figure and axes objects\n",
    "fig, ax = plt.subplots()\n",
    "\n",
    "# Plot the points.  x and y are original vectors, x_LT1 and y_LT1 are images\n",
    "ax.plot(x,y,'ro')\n",
    "ax.plot(x_LT4,y_LT4,'bo')\n",
    "\n",
    "# Connect the points by lines\n",
    "ax.plot(x,y,'r',ls=\"--\")\n",
    "ax.plot(x_LT4,y_LT4,'b')\n"
   ]
  },
  {
   "cell_type": "markdown",
   "metadata": {},
   "source": [
    "### Stretch\n",
    "\n",
    "Stretches or compresses the vector along each axis."
   ]
  },
  {
   "cell_type": "code",
   "execution_count": null,
   "metadata": {},
   "outputs": [],
   "source": [
    "St = np.array([[2,0],[0,2]])\n",
    "St_coords = St@coords\n",
    "\n",
    "x_LT5 = St_coords[0,:]\n",
    "y_LT5 = St_coords[1,:]\n",
    "\n",
    "\n",
    "# Create the figure and axes objects\n",
    "fig, ax = plt.subplots()\n",
    "\n",
    "# Plot the points.  x and y are original vectors, x_LT1 and y_LT1 are images\n",
    "ax.plot(x,y,'ro')\n",
    "ax.plot(x_LT5,y_LT5,'bo')\n",
    "\n",
    "# Connect the points by lines\n",
    "ax.plot(x,y,'r',ls=\"--\")\n",
    "ax.plot(x_LT5,y_LT5,'b')"
   ]
  }
 ],
 "metadata": {
  "kernelspec": {
   "display_name": "Python 3.9.12 ('base')",
   "language": "python",
   "name": "python3"
  },
  "language_info": {
   "codemirror_mode": {
    "name": "ipython",
    "version": 3
   },
   "file_extension": ".py",
   "mimetype": "text/x-python",
   "name": "python",
   "nbconvert_exporter": "python",
   "pygments_lexer": "ipython3",
   "version": "3.9.12"
  },
  "orig_nbformat": 4,
  "vscode": {
   "interpreter": {
    "hash": "4ac976f33923b182da07814ab290be6da73c97e6fea2e558a2c3a3323216d38c"
   }
  }
 },
 "nbformat": 4,
 "nbformat_minor": 2
}
