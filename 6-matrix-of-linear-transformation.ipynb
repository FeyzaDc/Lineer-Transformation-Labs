{
 "cells": [
  {
   "attachments": {},
   "cell_type": "markdown",
   "metadata": {},
   "source": [
    "###### This lab was prepared by Feyza Decdeli and Ali Rıza Girişen | Jan 2023"
   ]
  },
  {
   "attachments": {},
   "cell_type": "markdown",
   "metadata": {},
   "source": [
    "## Matrix of a Linear Transformation"
   ]
  },
  {
   "attachments": {},
   "cell_type": "markdown",
   "metadata": {},
   "source": [
    "In linear algebra, linear transformations can be represented by matrices. If ${\\displaystyle T}$ is a linear transformation mapping ${\\displaystyle \\mathbb {R} ^{n}}$ to ${\\displaystyle \\mathbb {R} ^{m}}$ and ${\\displaystyle \\mathbf {x} }$ is a column vector with ${\\displaystyle n}$ entries, then\n",
    "\n",
    "${\\displaystyle T(\\mathbf {x} )=A\\mathbf {x}}$  \n",
    "\n",
    "for some ${\\displaystyle m\\times n}$ matrix ${\\displaystyle A}$, called the **transformation matrix** of ${\\displaystyle T}$."
   ]
  },
  {
   "attachments": {},
   "cell_type": "markdown",
   "metadata": {},
   "source": [
    "If one has a linear transformation ${\\displaystyle T(x)}$ in functional form, it is easy to determine the transformation matrix A by transforming each of the vectors of the standard basis by T, then inserting the result into the columns of a matrix. In other words,\n",
    "\n",
    "${\\displaystyle A={\\begin{bmatrix}T(\\mathbf {e} _{1})&T(\\mathbf {e} _{2})&\\cdots &T(\\mathbf {e} _{n})\\end{bmatrix}}}$"
   ]
  },
  {
   "attachments": {},
   "cell_type": "markdown",
   "metadata": {},
   "source": [
    "The matrix representation of vectors and operators depends on the chosen basis; a similar matrix will result from an alternate basis. Nevertheless, the method to find the components remains the same.\n",
    "\n",
    "To elaborate, vector ${\\displaystyle \\mathbf {v} }$ can be represented in basis vectors, ${\\displaystyle E={\\begin{bmatrix}\\mathbf {e} _{1}&\\mathbf {e} _{2}&\\cdots &\\mathbf {e} _{n}\\end{bmatrix}}}$ with coordinates ${\\displaystyle [\\mathbf {v} ]_{E}={\\begin{bmatrix}v_{1}&v_{2}&\\cdots &v_{n}\\end{bmatrix}}^{\\mathrm {T} }}$:\n",
    "\n",
    "${\\displaystyle \\mathbf {v} =v_{1}\\mathbf {e} _{1}+v_{2}\\mathbf {e} _{2}+\\cdots +v_{n}\\mathbf {e} _{n}=\\sum _{i}v_{i}\\mathbf {e} _{i}=E[\\mathbf {v} ]_{E}}$"
   ]
  },
  {
   "attachments": {},
   "cell_type": "markdown",
   "metadata": {},
   "source": [
    "Now, express the result of the transformation matrix A upon ${\\displaystyle \\mathbf {v} }$ , in the given basis:\n",
    "\n",
    "${\\displaystyle {\\begin{aligned}A(\\mathbf {v} )&=A\\left(\\sum _{i}v_{i}\\mathbf {e} _{i}\\right)=\\sum _{i}{v_{i}A(\\mathbf {e} _{i})}\\\\&={\\begin{bmatrix}A(\\mathbf {e} _{1})&A(\\mathbf {e} _{2})&\\cdots &A(\\mathbf {e} _{n})\\end{bmatrix}}[\\mathbf {v} ]_{E}=A\\cdot [\\mathbf {v} ]_{E}\\\\[3pt]&={\\begin{bmatrix}\\mathbf {e} _{1}&\\mathbf {e} _{2}&\\cdots &\\mathbf {e} _{n}\\end{bmatrix}}{\\begin{bmatrix}a_{1,1}&a_{1,2}&\\cdots &a_{1,n}\\\\a_{2,1}&a_{2,2}&\\cdots &a_{2,n}\\\\\\vdots &\\vdots &\\ddots &\\vdots \\\\a_{n,1}&a_{n,2}&\\cdots &a_{n,n}\\\\\\end{bmatrix}}{\\begin{bmatrix}v_{1}\\\\v_{2}\\\\\\vdots \\\\v_{n}\\end{bmatrix}}\\end{aligned}}}$"
   ]
  },
  {
   "attachments": {},
   "cell_type": "markdown",
   "metadata": {},
   "source": [
    "<hr style=\"border:1px solid gray\">"
   ]
  },
  {
   "attachments": {},
   "cell_type": "markdown",
   "metadata": {},
   "source": [
    "#### Example - 1\n",
    "\n",
    "$T → {\\displaystyle \\mathbb {R} ^{2}}$ to ${\\displaystyle \\mathbb {R} ^{3}}$  \n",
    "Find the transformation matrix of the linear transformation function $T(x, y) = (2x+y, y, x-3y)$  \n",
    "\n",
    "$T(x, y) = \\begin{bmatrix} \\space\\space\\space\\space\\space \\end{bmatrix} \\times \\begin{bmatrix}x \\\\ y \\end{bmatrix} = \\begin{bmatrix}2x+y \\\\ y \\\\ x-3y\\end{bmatrix} $  \n",
    "\n",
    "and\n",
    "\n",
    "$A = \\begin{bmatrix}2&1 \\\\ 0&1 \\\\ 1&-3\\end{bmatrix} $"
   ]
  },
  {
   "cell_type": "code",
   "execution_count": null,
   "metadata": {},
   "outputs": [],
   "source": [
    "import numpy as np\n",
    "\n",
    "def T(x, y):\n",
    "    return ((2*x + y), y, (x - 3*y))\n",
    "\n",
    "# Create a matrix of the standard basis vectors\n",
    "X = np.array([[1, 0], [0, 1]])\n",
    "\n",
    "# Apply the transformation to each standard basis vector\n",
    "TX = np.array([T(x, y) for x, y in X])\n",
    "\n",
    "# Create the transformation matrix\n",
    "A = np.row_stack([TX[:, i] for i in range(TX.shape[1])])\n",
    "\n",
    "print(A)"
   ]
  },
  {
   "attachments": {},
   "cell_type": "markdown",
   "metadata": {},
   "source": [
    "<hr style=\"border:1px solid gray\">"
   ]
  },
  {
   "attachments": {},
   "cell_type": "markdown",
   "metadata": {},
   "source": [
    "#### Example - 2\n",
    "\n",
    "$T → {\\displaystyle \\mathbb {R} ^{3}}$ to ${\\displaystyle \\mathbb {R} ^{2}}$  \n",
    "Find the transformation matrix of the linear transformation function $T(x, y, z) = (x+3z, y-2z)$  \n",
    "\n",
    "$T(x, y, z) = \\begin{bmatrix} \\space\\space\\space\\space\\space \\end{bmatrix} \\times \\begin{bmatrix}x \\\\ y \\\\ z \\end{bmatrix} = \\begin{bmatrix}x+3z \\\\ y-2z \\end{bmatrix} $  \n",
    "\n",
    "and\n",
    "\n",
    "$A = \\begin{bmatrix}1&0&3 \\\\ 0&1&-2 \\end{bmatrix} $\n",
    "\n"
   ]
  },
  {
   "cell_type": "code",
   "execution_count": null,
   "metadata": {},
   "outputs": [],
   "source": [
    "import numpy as np\n",
    "\n",
    "def T(x, y, z):\n",
    "    return ((x + 3*z), (y - 2*z))\n",
    "\n",
    "# Create a matrix of the standard basis vectors\n",
    "X = np.array([[1, 0, 0], [0, 1, 0], [0, 0, 1]])\n",
    "\n",
    "# Apply the transformation to each standard basis vector\n",
    "TX = np.array([T(x, y, z) for x, y, z in X])\n",
    "\n",
    "# Create the transformation matrix\n",
    "A = np.row_stack([TX[:, i] for i in range(TX.shape[1])])\n",
    "\n",
    "print(A)"
   ]
  }
 ],
 "metadata": {
  "kernelspec": {
   "display_name": "Python 3",
   "language": "python",
   "name": "python3"
  },
  "language_info": {
   "codemirror_mode": {
    "name": "ipython",
    "version": 3
   },
   "file_extension": ".py",
   "mimetype": "text/x-python",
   "name": "python",
   "nbconvert_exporter": "python",
   "pygments_lexer": "ipython3",
   "version": "3.10.9"
  },
  "orig_nbformat": 4,
  "vscode": {
   "interpreter": {
    "hash": "a2424f6f2c7b0bd02e8e08f3fb1154dcb7428b904a13cffc4e1932abfb740526"
   }
  }
 },
 "nbformat": 4,
 "nbformat_minor": 2
}
