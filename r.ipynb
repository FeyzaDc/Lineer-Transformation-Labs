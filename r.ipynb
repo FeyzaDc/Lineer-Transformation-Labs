{
 "cells": [
  {
   "cell_type": "markdown",
   "metadata": {},
   "source": [
    "## Rank\n",
    "\n",
    "If the determinant of at least one of the rxr-dimensional square matrices obtained when some rows and columns of a matrix is deleted is different from zero, but the determinant of each of the higher-dimensional square matrices than rxr is zero, the r number is called the **rank** of the A matrix.\n",
    "\n",
    "The maximum number of linearly independent rows in a matrix A is called the **row rank** of A, and the maximum number of linarly independent columns in A is called the **column rank** of A. \n",
    "\n",
    "If A is an m by n matrix, that is, if A has m rows and n columns, then it is obvious that,  \n",
    "* row rank of A ≤ m  \n",
    "* column rank of A ≤ n \n",
    "* the row rank of A = the column rank of A \n",
    "\n",
    "and rank (A<sub>m x n</sub>) = min(m, n)"
   ]
  },
  {
   "cell_type": "markdown",
   "metadata": {},
   "source": [
    "#### Example 1 \n",
    "$$ A = \\begin{bmatrix} 2 & 24\\\\ 4 & 48\\end{bmatrix}$$  \n",
    "\n",
    "Recall that the rank of a matrix 𝐴 is equal to the number of rows/columns of the largest square submatrix of  𝐴 that has a nonzero determinant.  \n",
    "\n",
    "Since the matrix is a 2 × 2 square matrix, the largest possible square submatrix is the original matrix itself. Its rank must therefore be between 0 and 2 inclusive.  \n",
    "\n",
    "Taking the determinant of the matrix,  \n",
    "$$ det(A) = \\begin{vmatrix*}[r] 2 & 24\\\\ 4 & 48 \\end{vmatrix*} = 2 ⋅ 48 − 24 ⋅ 4 = 96 − 96 = 0 $$\n",
    "\n",
    "Since the determinant of the matrix is zero, its rank cannot be equal to the number of rows/columns, 2.  \n",
    "\n",
    "The only remaining possibility is that the rank of the matrix is 1, which we do not need to verify by taking any further determinants.  \n",
    "\n",
    "Therefore, the rank of the matrix is 1.\n",
    "\n",
    " "
   ]
  },
  {
   "cell_type": "code",
   "execution_count": 15,
   "metadata": {},
   "outputs": [
    {
     "data": {
      "text/plain": [
       "1"
      ]
     },
     "execution_count": 15,
     "metadata": {},
     "output_type": "execute_result"
    }
   ],
   "source": [
    "# import library\n",
    "import numpy as np\n",
    "\n",
    "# creating 4 x 4 matrix\n",
    "matrix = np.array([[2, 24],\n",
    "                   [4, 48]])\n",
    "\n",
    "# Return matrix rank\n",
    "np.linalg.matrix_rank(matrix)"
   ]
  },
  {
   "cell_type": "markdown",
   "metadata": {},
   "source": [
    "#### Example 2 \n",
    "$$ A = \\begin{bmatrix} 1 & 1 & 1\\\\ 1 & 3 & 2\\\\ 2 & 1 & 0\\\\\\end{bmatrix}$$  \n",
    "\n",
    "The matrix A has 3 rows and 2 columns.\n",
    "\n",
    "Taking the determinant of the matrix A,  \n",
    "\n",
    "$$ det(A) = 1\\begin{vmatrix*}[r] 3 & 2\\\\ 0 & 1 \\end{vmatrix*}-1\\begin{vmatrix*}[r] 1 & 2\\\\ 2 & 1\\end{vmatrix*}+1\\begin{vmatrix*}[r] 1 & 3\\\\ 2 & 0\\end{vmatrix*}$$\n",
    "$$ = 1(3-0) - 1(1-4) + 1(0-6)$$\n",
    "$$ = 0$$\n",
    "\n",
    "Since the determinant of the matrix is zero, its rank cannot be equal to the number of rows/columns, 2.  \n",
    "\n",
    "The only remaining possibility is that the rank of the matrix is 1, which we do not need to verify by taking any further determinants.  \n",
    "\n",
    "Therefore, the rank of the matrix is 1."
   ]
  }
 ],
 "metadata": {
  "kernelspec": {
   "display_name": "Python 3.9.12 ('base')",
   "language": "python",
   "name": "python3"
  },
  "language_info": {
   "codemirror_mode": {
    "name": "ipython",
    "version": 3
   },
   "file_extension": ".py",
   "mimetype": "text/x-python",
   "name": "python",
   "nbconvert_exporter": "python",
   "pygments_lexer": "ipython3",
   "version": "3.9.12"
  },
  "orig_nbformat": 4,
  "vscode": {
   "interpreter": {
    "hash": "4ac976f33923b182da07814ab290be6da73c97e6fea2e558a2c3a3323216d38c"
   }
  }
 },
 "nbformat": 4,
 "nbformat_minor": 2
}
