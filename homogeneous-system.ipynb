{
 "cells": [
  {
   "cell_type": "markdown",
   "metadata": {},
   "source": [
    "## Homogeneous Systems\n",
    "\n",
    "A system of linear equations is homogeneous if all of the constant terms are zero:\n",
    "\n",
    "$${\\displaystyle {\\begin{alignedat}{7}a_{11}x_{1}&&\\;+\\;&&a_{12}x_{2}&&\\;+\\cdots +\\;&&a_{1n}x_{n}&&\\;=\\;&&&0\\\\a_{21}x_{1}&&\\;+\\;&&a_{22}x_{2}&&\\;+\\cdots +\\;&&a_{2n}x_{n}&&\\;=\\;&&&0\\\\&&&&&&&&&&\\vdots \\;\\ &&&\\\\a_{m1}x_{1}&&\\;+\\;&&a_{m2}x_{2}&&\\;+\\cdots +\\;&&a_{mn}x_{n}&&\\;=\\;&&&0.\\\\\\end{alignedat}}}{\\displaystyle {\\begin{alignedat}{7}a_{11}x_{1}&&\\;+\\;&&a_{12}x_{2}&&\\;+\\cdots +\\;&&a_{1n}x_{n}&&\\;=\\;&&&0\\\\a_{21}x_{1}&&\\;+\\;&&a_{22}x_{2}&&\\;+\\cdots +\\;&&a_{2n}x_{n}&&\\;=\\;&&&0\\\\&&&&&&&&&&\\vdots \\;\\ &&&\\\\a_{m1}x_{1}&&\\;+\\;&&a_{m2}x_{2}&&\\;+\\cdots +\\;&&a_{mn}x_{n}&&\\;=\\;&&&0.\\\\\\end{alignedat}}}$$\n",
    "A homogeneous system is equivalent to a matrix equation of the form\n",
    "\n",
    "$$\\displaystyle A\\mathbf {x} =\\mathbf {0}$$ \n",
    "where A is an m × n matrix, x is a column vector with n entries, and 0 is the zero vector with m entries.\n",
    "\n",
    "</br>\n",
    "\n",
    "### Some Properties of Homogeneous Systems\n",
    "* In homogeneous systems of linear equations, there is always a (one/infinitely many) solution . Therefore it is always **consistent**.\n",
    "\n",
    "* Homogeneous systems of linear equations always have a trivial solution. $$ x_1 =  x_2 =  x_3 = \\cdot\\cdot\\cdot = 0$$\n",
    "\n",
    "* If there is only **one solution** in a homogeneous system of equations, that solution is the trivial solution - **one trivial solution**.\n",
    "\n",
    "* If a homogeneous system of equations has **infinite solutions**, there are also nonzero solutions. This is called a **non-trivial solution**.\n",
    "\n",
    "* If the number of unknowns is greater than the number of equations, there are definitely infinite solutions. \n"
   ]
  },
  {
   "cell_type": "markdown",
   "metadata": {},
   "source": [
    "<hr style=\"border:1px solid gray\">"
   ]
  },
  {
   "cell_type": "markdown",
   "metadata": {},
   "source": [
    "## Example\n",
    "$$ x+6y-2z = 0\\\\\n",
    " 2x-4y+z = 0$$\n",
    "Solve the system of homogeneous linear equations."
   ]
  },
  {
   "cell_type": "markdown",
   "metadata": {},
   "source": [
    "Let's get the matrices into echelon form.  \n",
    "The first row already has a pivot, so no action will be taken for the first row.\n",
    "\n",
    "</br>\n",
    "\n",
    "$$ \\begin{bmatrix} 1 & 6 & -2\\\\ 2 & -4 & 1\\end{bmatrix}\\space\\space\\space\\space R_{2}\\rarr-2R_{1}+R_{2}\\space\\space\\space\\space \\begin{bmatrix} 1 & 6 & -2\\\\ 0 & -16 & 5\\end{bmatrix} \\space\\space\\space\\space R_{2}\\rarr -\\frac{1}{16}R_{2}\\space\\space\\space\\space \\begin{bmatrix} 1 & 6 & -2\\\\ 0 & 1 & -\\frac{5}{16}\\end{bmatrix}$$\n",
    "\n",
    "</br> x, y are base variable and z is free variable"
   ]
  },
  {
   "cell_type": "code",
   "execution_count": null,
   "metadata": {},
   "outputs": [],
   "source": [
    "from sympy import *\n",
    "\n",
    "# define the matrix\n",
    "m = Matrix([\n",
    "        [1, 6, -2],\n",
    "        [2, -4, 1]])\n",
    "\n",
    "M_rref = m.rref()\n",
    "print(\"The Row echelon form of matrix M and the pivot columns : {}\".format(M_rref))  "
   ]
  },
  {
   "cell_type": "markdown",
   "metadata": {},
   "source": [
    "$$let \\space z = a, \\space a\\in R$$\n",
    "$$y - \\frac{5z}{16} = 0 \\space\\space\\rarr\\space\\space y = \\frac{5a}{16}$$\n"
   ]
  },
  {
   "cell_type": "markdown",
   "metadata": {},
   "source": [
    "$$ x+6y-2z = 0$$\n",
    "$$x + \\frac{15a}{8} - 2a= 0 \\space\\space\\rarr\\space\\space x = -\\frac{a}{8}$$"
   ]
  },
  {
   "cell_type": "markdown",
   "metadata": {},
   "source": [
    "$ Finally, $\n",
    "\n",
    "$$ (x, y, z) = (-\\frac{a}{8}, \\space \\frac{5a}{16}, \\space a) $$\n",
    "$$ (x, y, z) = (0, \\space 0, \\space 0) $$"
   ]
  },
  {
   "cell_type": "markdown",
   "metadata": {},
   "source": [
    "<hr style=\"border:1px solid gray\">"
   ]
  },
  {
   "cell_type": "markdown",
   "metadata": {},
   "source": [
    "## Example\n",
    "\n",
    "$$\n",
    "4x + 3y + 2z = 25 \\\\\n",
    "-2x + 2y + 3z = -10 \\\\ \n",
    "3x -5y + 2z = -4  \n",
    "$$\n",
    "\n",
    "The above equation can be solved using the Numpy library as follows:"
   ]
  },
  {
   "cell_type": "code",
   "execution_count": null,
   "metadata": {},
   "outputs": [],
   "source": [
    "A = np.array([[4, 3, 2], [-2, 2, 3], [3, -5, 2]])\n",
    "B = np.array([25, -10, -4])\n",
    "X = np.linalg.inv(A).dot(B)\n",
    "\n",
    "print(X)"
   ]
  },
  {
   "cell_type": "markdown",
   "metadata": {},
   "source": [
    "$$ (x, y, z) = (5, \\space 3, \\space -2) $$"
   ]
  }
 ],
 "metadata": {
  "kernelspec": {
   "display_name": "Python 3.9.12 ('base')",
   "language": "python",
   "name": "python3"
  },
  "language_info": {
   "codemirror_mode": {
    "name": "ipython",
    "version": 3
   },
   "file_extension": ".py",
   "mimetype": "text/x-python",
   "name": "python",
   "nbconvert_exporter": "python",
   "pygments_lexer": "ipython3",
   "version": "3.9.12"
  },
  "orig_nbformat": 4,
  "vscode": {
   "interpreter": {
    "hash": "4ac976f33923b182da07814ab290be6da73c97e6fea2e558a2c3a3323216d38c"
   }
  }
 },
 "nbformat": 4,
 "nbformat_minor": 2
}
