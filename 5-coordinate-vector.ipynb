{
 "cells": [
  {
   "attachments": {},
   "cell_type": "markdown",
   "metadata": {},
   "source": [
    "###### This lab was prepared by Feyza Decdeli and Ali Rıza Girişen | Jan 2023"
   ]
  },
  {
   "attachments": {},
   "cell_type": "markdown",
   "metadata": {},
   "source": [
    "## Coordinate Vector\n",
    "\n",
    "In linear algebra, a **coordinate vector** is a representation of a vector as an ordered list of numbers (a tuple) that describes the vector in terms of a particular ordered basis.\n",
    "\n",
    "In transformation, **coordinate vectors** are used to represent the position of points in an n-dimensional space. A transformation is a function that takes a point in one coordinate system and maps it to a new point in a different coordinate system. Coordinate vectors are used to represent the position of the points before and after the transformation.\n",
    "\n",
    "The original position of the point can be represented using a **coordinate vector**, such as (x, y). The transformed position of the point can also be represented using a **coordinate vector**, such as (x', y'). The transformation can be represented using a matrix, which takes the original **coordinate vector** (x, y) and produces the transformed **coordinate vector** (x', y').\n",
    "\n",
    "**Coordinate vectors** are a useful tool for representing the position of points in an abstract space and for performing transformations on those points. They are used in many different fields, including graphics, physics, and engineering, to represent positions, directions, and other physical quantities."
   ]
  },
  {
   "attachments": {},
   "cell_type": "markdown",
   "metadata": {},
   "source": [
    "### Definition"
   ]
  },
  {
   "attachments": {},
   "cell_type": "markdown",
   "metadata": {},
   "source": [
    "Let V be a vector space of dimension n over a field F and let  \n",
    "\n",
    "${\\displaystyle B=\\{b_{1},b_{2},\\ldots ,b_{n}\\}}$  \n",
    "\n",
    "be an ordered basis for V. Then for every ${\\displaystyle v\\in V}$  there is a unique linear combination of the basis vectors that equals ${\\displaystyle v}$:  \n",
    "\n",
    "${\\displaystyle v=\\alpha _{1}b_{1}+\\alpha _{2}b_{2}+\\cdots +\\alpha _{n}b_{n}.}$  "
   ]
  },
  {
   "attachments": {},
   "cell_type": "markdown",
   "metadata": {},
   "source": [
    "  \n",
    "The coordinate vector of ${\\displaystyle v}$ relative to B is the sequence of coordinates  \n",
    "\n",
    "${\\displaystyle [v]_{B}=(\\alpha _{1},\\alpha _{2},\\ldots ,\\alpha _{n}).}$  \n",
    "\n",
    "This is also called the representation of ${\\displaystyle v}$ with respect to B, or the B representation of ${\\displaystyle v}$. The ${\\displaystyle \\alpha _{1},\\alpha _{2},\\ldots ,\\alpha _{n}}$ are called the coordinates of ${\\displaystyle v}$. The order of the basis becomes important here, since it determines the order in which the coefficients are listed in the coordinate vector."
   ]
  },
  {
   "attachments": {},
   "cell_type": "markdown",
   "metadata": {},
   "source": [
    "Coordinate vectors of finite-dimensional vector spaces can be represented by matrices as column or row vectors. In the above notation, one can write  \n",
    "\n",
    "${\\displaystyle [v]_{B}={\\begin{bmatrix}\\alpha _{1}\\\\\\vdots \\\\\\alpha _{n}\\end{bmatrix}}}$  \n",
    "\n",
    "and  \n",
    "\n",
    "${\\displaystyle [v]_{B}^{T}={\\begin{bmatrix}\\alpha _{1}&\\alpha _{2}&\\cdots &\\alpha _{n}\\end{bmatrix}}}$  \n",
    "\n",
    "where ${\\displaystyle [v]_{B}^{T}}$ is the transpose of the matrix ${\\displaystyle [v]_{B}}$."
   ]
  },
  {
   "attachments": {},
   "cell_type": "markdown",
   "metadata": {},
   "source": [
    "<hr style=\"border:1px solid gray\">"
   ]
  },
  {
   "cell_type": "code",
   "execution_count": 3,
   "metadata": {},
   "outputs": [
    {
     "name": "stdout",
     "output_type": "stream",
     "text": [
      "[-15, -2, 0]\n"
     ]
    }
   ],
   "source": [
    "# Define the vector v in the standard basis\n",
    "v = [-5, -2, 0]\n",
    "\n",
    "# Define the basis vectors for the standard basis\n",
    "i = [1, 5, 2]\n",
    "j = [0, 1, -4]\n",
    "k = [0, 0, 1]\n",
    "\n",
    "# Find the coordinate vector for v by expressing it in terms of the basis vectors\n",
    "v_coord = [sum([a*b for a,b in zip(v, basis)]) for basis in [i, j, k]]\n",
    "\n",
    "print(v_coord)  # prints [1, 2, 3]"
   ]
  }
 ],
 "metadata": {
  "kernelspec": {
   "display_name": "base",
   "language": "python",
   "name": "python3"
  },
  "language_info": {
   "codemirror_mode": {
    "name": "ipython",
    "version": 3
   },
   "file_extension": ".py",
   "mimetype": "text/x-python",
   "name": "python",
   "nbconvert_exporter": "python",
   "pygments_lexer": "ipython3",
   "version": "3.9.12"
  },
  "orig_nbformat": 4,
  "vscode": {
   "interpreter": {
    "hash": "4ac976f33923b182da07814ab290be6da73c97e6fea2e558a2c3a3323216d38c"
   }
  }
 },
 "nbformat": 4,
 "nbformat_minor": 2
}
