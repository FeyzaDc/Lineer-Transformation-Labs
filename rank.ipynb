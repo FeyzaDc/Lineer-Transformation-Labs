{
 "cells": [
  {
   "cell_type": "markdown",
   "metadata": {},
   "source": [
    "## Rank\n",
    "\n",
    "If the determinant of at least one of the r×r-dimensional square matrices obtained when some rows and columns of a matrix is deleted is different from zero, but the determinant of each of the higher-dimensional square matrices than r×r is zero, the r number is called the **rank** of the A matrix.\n",
    "\n",
    "The maximum number of linearly independent rows in a matrix A is called the **row rank** of A, and the maximum number of linearly independent columns in A is called the **column rank** of A. \n",
    "\n",
    "If A is an m by n matrix, that is, if A has m rows and n columns, then it is obvious that,  \n",
    "* row rank of A ≤ m  \n",
    "* column rank of A ≤ n \n",
    "* the row rank of A = the column rank of A \n",
    "\n",
    "and rank (A<sub>m x n</sub>) = min(m, n)"
   ]
  },
  {
   "cell_type": "markdown",
   "metadata": {},
   "source": [
    "<hr style=\"border:1px solid gray\">"
   ]
  },
  {
   "cell_type": "markdown",
   "metadata": {},
   "source": [
    "## Example\n",
    "We have a 3×3-dimensional A matrix defined below\n",
    "\n",
    "$$ A = \\begin{bmatrix} 1 & 1 & 1\\\\ 1 & 3 & 2\\\\ 2 & 0 & 1\\end{bmatrix}$$  "
   ]
  },
  {
   "cell_type": "code",
   "execution_count": null,
   "metadata": {},
   "outputs": [],
   "source": [
    "# import the numpy library\n",
    "import numpy as np\n",
    "\n",
    "# create the matrix A\n",
    "A = np.array([[1, 1, 1], [1, 3, 2], [2, 0, 1]])\n",
    "print(A)"
   ]
  },
  {
   "cell_type": "markdown",
   "metadata": {},
   "source": [
    "Let's find the determinant of matrix A ;\n",
    "\n",
    "$$ det(A) = 1\\begin{vmatrix*}[r] 3 & 2\\\\ 0 & 1 \\end{vmatrix*}-1\\begin{vmatrix*}[r] 1 & 2\\\\ 2 & 1\\end{vmatrix*}+1\\begin{vmatrix*}[r] 1 & 3\\\\ 2 & 0\\end{vmatrix*}$$\n",
    "$$ = 1(3-0) - 1(1-4) + 1(0-6)$$\n",
    "$$ = 0$$"
   ]
  },
  {
   "cell_type": "code",
   "execution_count": null,
   "metadata": {},
   "outputs": [],
   "source": [
    "det = np.linalg.det(A)\n",
    "print(\"det(A) =\", int(det))"
   ]
  },
  {
   "cell_type": "markdown",
   "metadata": {},
   "source": [
    "Since the determinant of the A = 0, the rank of A < 3.  \n",
    "\n",
    "Let's create 2×2 dimensional matrices and find their determinants. If the determinant of any of them is non-zero, we do not need the determinant of the other 2×2-dimensional matrices.  \n",
    "\n",
    "For example, \n",
    "$$ M = \\begin{bmatrix} 1 & 1\\\\ 1 & 3\\end{bmatrix}$$"
   ]
  },
  {
   "cell_type": "code",
   "execution_count": null,
   "metadata": {},
   "outputs": [],
   "source": [
    "# create the 2×2 matrix M\n",
    "M = np.array([[1, 1], [1, 3]])\n",
    "print(M)"
   ]
  },
  {
   "cell_type": "markdown",
   "metadata": {},
   "source": [
    "$$det(M) = \\begin{vmatrix*}[r] 1 & 1\\\\ 1 & 3\\end{vmatrix*} = 2 ≠ 0 $$"
   ]
  },
  {
   "cell_type": "code",
   "execution_count": null,
   "metadata": {},
   "outputs": [],
   "source": [
    "# calculate the determinant of 2×2 matrix\n",
    "det = np.linalg.det(M)\n",
    "print(\"det(M) =\", int(det))"
   ]
  },
  {
   "cell_type": "markdown",
   "metadata": {},
   "source": [
    "Determinant of 2×2 matrix is non-zero  \n",
    "\n",
    "So, the rank of A, ρ(A) = 2."
   ]
  },
  {
   "cell_type": "code",
   "execution_count": null,
   "metadata": {},
   "outputs": [],
   "source": [
    "# calculate the rank of matrix\n",
    "rank = np.linalg.matrix_rank(A)\n",
    "print(\"ρ(A) = \", rank)"
   ]
  }
 ],
 "metadata": {
  "kernelspec": {
   "display_name": "Python 3.9.12 ('base')",
   "language": "python",
   "name": "python3"
  },
  "language_info": {
   "codemirror_mode": {
    "name": "ipython",
    "version": 3
   },
   "file_extension": ".py",
   "mimetype": "text/x-python",
   "name": "python",
   "nbconvert_exporter": "python",
   "pygments_lexer": "ipython3",
   "version": "3.9.12"
  },
  "orig_nbformat": 4,
  "vscode": {
   "interpreter": {
    "hash": "4ac976f33923b182da07814ab290be6da73c97e6fea2e558a2c3a3323216d38c"
   }
  }
 },
 "nbformat": 4,
 "nbformat_minor": 2
}
