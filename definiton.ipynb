{
 "cells": [
  {
   "cell_type": "markdown",
   "metadata": {},
   "source": [
    "## Definiton of Linear Transformations\n",
    "While the space of linear transformations is large, there are few types of transformations which are typical. We look here at **shears**, **rotations**, **reflections** and **projections**."
   ]
  },
  {
   "cell_type": "markdown",
   "metadata": {},
   "source": [
    "### Rotation\n",
    "\n",
    "To rotate vectors in the plane, we choose an angle θ and write down the matrix that represents the rotation counterclockwise by an angle θ. Basic trigonometry can be used to calculate the columns in this case.  \n",
    "\n",
    "In two dimensions, the standard rotation matrix has the following form:\n",
    "$$ R(θ) = \\begin{bmatrix} cosθ & -sinθ\\\\ sinθ & cosθ\\end{bmatrix}$$ \n",
    "$$ Rv = \\begin{bmatrix} cosθ & -sinθ\\\\ sinθ & cosθ\\end{bmatrix}\\begin{bmatrix} x\\\\ y\\end{bmatrix} = \n",
    "\\begin{bmatrix} xcosθ - ysinθ\\\\ xsinθ + ycosθ\\end{bmatrix}$$"
   ]
  },
  {
   "cell_type": "markdown",
   "metadata": {},
   "source": [
    "#### Example"
   ]
  },
  {
   "cell_type": "code",
   "execution_count": 2,
   "metadata": {},
   "outputs": [],
   "source": [
    "from math import pi, sin, cos\n",
    "import matplotlib.pyplot as plt\n",
    "import numpy as np\n",
    "\n",
    "coords = np.array([[0, 0], [0.5, 0.5], [0.5, 1.5], [0, 1], [0, 0]])\n",
    "coords = coords.transpose() # Returns a view of the array with axes transposed.\n",
    "x = coords[0,:]\n",
    "y = coords[1,:]\n",
    "\n",
    "\n",
    "A = np.array([[2, 0], [0, 1]])\n",
    "A_coords = A@coords # @ meaning matrix multiplication"
   ]
  },
  {
   "cell_type": "code",
   "execution_count": 3,
   "metadata": {},
   "outputs": [],
   "source": [
    "theta = pi/6\n",
    "R = np.array([[cos(theta), -sin(theta)], [sin(theta), cos(theta)]])\n",
    "R_coords = R@coords\n",
    "\n",
    "x_LT3 = R_coords[0,:]\n",
    "y_LT3 = R_coords[1,:]"
   ]
  },
  {
   "cell_type": "code",
   "execution_count": 11,
   "metadata": {},
   "outputs": [
    {
     "data": {
      "text/plain": [
       "[<matplotlib.lines.Line2D at 0x234e54f92b0>]"
      ]
     },
     "execution_count": 11,
     "metadata": {},
     "output_type": "execute_result"
    },
    {
     "data": {
      "image/png": "[encoded data removed]",
      "text/plain": [
       "<Figure size 432x288 with 1 Axes>"
      ]
     },
     "metadata": {
      "needs_background": "light"
     },
     "output_type": "display_data"
    }
   ],
   "source": [
    "# Create the figure and axes objects\n",
    "fig, ax = plt.subplots()\n",
    "\n",
    "# Plot the points.  x and y are original vectors, x_LT1 and y_LT1 are images\n",
    "ax.plot(x, y, 'ro') # ro meaning 'Red Point'\n",
    "ax.plot(x_LT3, y_LT3, 'bo')\n",
    "# Connect the points by lines\n",
    "ax.plot(x, y, 'r')\n",
    "ax.plot(x_LT3, y_LT3,'b')"
   ]
  },
  {
   "cell_type": "markdown",
   "metadata": {},
   "source": [
    "### Reflection"
   ]
  },
  {
   "cell_type": "markdown",
   "metadata": {},
   "source": [
    "### Projection"
   ]
  },
  {
   "cell_type": "markdown",
   "metadata": {},
   "source": [
    "### Shear"
   ]
  }
 ],
 "metadata": {
  "kernelspec": {
   "display_name": "Python 3.9.12 ('base')",
   "language": "python",
   "name": "python3"
  },
  "language_info": {
   "codemirror_mode": {
    "name": "ipython",
    "version": 3
   },
   "file_extension": ".py",
   "mimetype": "text/x-python",
   "name": "python",
   "nbconvert_exporter": "python",
   "pygments_lexer": "ipython3",
   "version": "3.9.12"
  },
  "orig_nbformat": 4,
  "vscode": {
   "interpreter": {
    "hash": "4ac976f33923b182da07814ab290be6da73c97e6fea2e558a2c3a3323216d38c"
   }
  }
 },
 "nbformat": 4,
 "nbformat_minor": 2
}
