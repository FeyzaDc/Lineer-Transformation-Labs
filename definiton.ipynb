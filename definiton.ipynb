{
 "cells": [
  {
   "cell_type": "markdown",
   "metadata": {},
   "source": [
    "## Definiton of Linear Transformations\n",
    "There are few types of transformations which are typical. We look here at shears, rotations, reflections and projections."
   ]
  },
  {
   "cell_type": "markdown",
   "metadata": {},
   "source": [
    "### Example 1 - Rotation\n",
    "\n",
    "To rotate vectors in the plane, we choose an angle θ and write down the matrix that represents the rotation counterclockwise by an angle θ. Basic trigonometry can be used to calculate the columns in this case.\n",
    "\n",
    "\n",
    "\n",
    "$$ A = \\begin{bmatrix} cosθ & -sinθ\\\\ sinθ & cosθ\\end{bmatrix}$$  "
   ]
  },
  {
   "cell_type": "code",
   "execution_count": 64,
   "metadata": {},
   "outputs": [],
   "source": [
    "from math import pi, sin, cos\n",
    "import matplotlib.pyplot as plt\n",
    "import numpy as np\n",
    "\n",
    "coords = np.array([[0,0],[0.5,0.5],[0.5,1.5],[0,1],[0,0]])\n",
    "coords = coords.transpose() # Returns a view of the array with axes transposed.\n",
    "x = coords[0,:]\n",
    "y = coords[1,:]\n",
    "\n",
    "\n",
    "A = np.array([[2,0],[0,1]])\n",
    "A_coords = A@coords # @ meaning matrix multiplication"
   ]
  },
  {
   "cell_type": "code",
   "execution_count": 65,
   "metadata": {},
   "outputs": [],
   "source": [
    "theta = pi/6\n",
    "R = np.array([[cos(theta),-sin(theta)],[sin(theta),cos(theta)]])\n",
    "R_coords = R@coords\n",
    "\n",
    "x_LT3 = R_coords[0,:]\n",
    "y_LT3 = R_coords[1,:]"
   ]
  },
  {
   "cell_type": "code",
   "execution_count": 66,
   "metadata": {},
   "outputs": [
    {
     "data": {
      "image/png": "[encoded data removed]",
      "text/plain": [
       "<Figure size 432x288 with 1 Axes>"
      ]
     },
     "metadata": {
      "needs_background": "light"
     },
     "output_type": "display_data"
    }
   ],
   "source": [
    "# Create the figure and axes objects\n",
    "fig, ax = plt.subplots()\n",
    "\n",
    "# Plot the points.  x and y are original vectors, x_LT1 and y_LT1 are images\n",
    "ax.plot(x,y,'ro') # ro meaning 'Red Point'\n",
    "ax.plot(x_LT3,y_LT3,'bo')\n",
    "# Connect the points by lines\n",
    "ax.plot(x,y,'r')\n",
    "ax.plot(x_LT3,y_LT3,'b')\n",
    "\n",
    "\n",
    "\n",
    "# Edit some settings \n",
    "ax.axvline(x=0,color=\"k\",ls=\":\") # x axis line\n",
    "ax.axhline(y=0,color=\"k\",ls=\":\") # y axis line\n",
    "ax.grid(True) # backround \n",
    "ax.axis([-2,2,-1,2]) # plot area boundaries (x1,x2,y1,y2)\n",
    "ax.set_aspect('equal')\n",
    "ax.set_title(\"Rotation\");"
   ]
  }
 ],
 "metadata": {
  "kernelspec": {
   "display_name": "Python 3.9.12 ('base')",
   "language": "python",
   "name": "python3"
  },
  "language_info": {
   "codemirror_mode": {
    "name": "ipython",
    "version": 3
   },
   "file_extension": ".py",
   "mimetype": "text/x-python",
   "name": "python",
   "nbconvert_exporter": "python",
   "pygments_lexer": "ipython3",
   "version": "3.9.12"
  },
  "orig_nbformat": 4,
  "vscode": {
   "interpreter": {
    "hash": "416c13fb8470376c3b1c12ebddb3919e326b2aaade7039b483f218bbd3c24e1d"
   }
  }
 },
 "nbformat": 4,
 "nbformat_minor": 2
}
