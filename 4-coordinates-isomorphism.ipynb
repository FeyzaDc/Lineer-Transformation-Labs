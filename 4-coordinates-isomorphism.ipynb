{
 "cells": [
  {
   "attachments": {},
   "cell_type": "markdown",
   "metadata": {},
   "source": [
    "###### This lab was prepared by Feyza Decdeli and Ali Rıza Girişen | Jan 2023"
   ]
  },
  {
   "attachments": {},
   "cell_type": "markdown",
   "metadata": {},
   "source": [
    "## Coordinates and Isomorphisms\n",
    "\n"
   ]
  },
  {
   "attachments": {},
   "cell_type": "markdown",
   "metadata": {},
   "source": [
    "Isomorphism, in modern algebra, a one-to-one correspondence (mapping) between two sets that preserves binary relationships between elements of the sets. For example, the set of natural numbers can be mapped onto the set of even natural numbers by multiplying each natural number by 2. Frequently in mathematics we look at two algebraic structures A and B of the same kind and want to compare them."
   ]
  },
  {
   "attachments": {},
   "cell_type": "markdown",
   "metadata": {},
   "source": [
    "Two vector spaces V and W over the same field F are isomorphic if there is a bijection T : V → W which preserves addition and scalar multiplication, that is, for all vectors u and v in V , and all scalarsc ∈ F,"
   ]
  },
  {
   "attachments": {},
   "cell_type": "markdown",
   "metadata": {},
   "source": [
    "To prove that $T$ is an isomorphism we must show\n",
    "\n",
    "- $T$ is a linear transformation\n",
    "\n",
    "   $T(u + v) = T(u) + T(v)$  \n",
    "   \n",
    "   and  \n",
    "   \n",
    "   $T(cv) = cT(v)$"
   ]
  },
  {
   "attachments": {},
   "cell_type": "markdown",
   "metadata": {},
   "source": [
    "\n",
    "- $T$ is one to one\n",
    "\n",
    "    We could define two maps, say\n",
    "\n",
    "    $s : A → B$  \n",
    "      \n",
    "    $bird →$  \n",
    "    $eye →$  \n",
    "    $cross →$  \n",
    "\n",
    "    and\n",
    "\n",
    "    $T : B → A$  \n",
    "    $→ bird$  \n",
    "    $→ eye$  \n",
    "    $→ cross$"
   ]
  },
  {
   "attachments": {},
   "cell_type": "markdown",
   "metadata": {},
   "source": [
    "   \n",
    "- $T$ is onto\n",
    "\n",
    "    A transformation $ \\space T: R^{n} → R^{m}$ is onto if, for every vector bin $R^{m}$, the equation $T(x) = b$ has at least one solution x in $R^{n}$.\n",
    "\n",
    "    The range of $T$ is equal to the codomain of $T$.\n",
    "\n",
    "    Every vector in the codomain is the output of some input vector."
   ]
  },
  {
   "attachments": {},
   "cell_type": "markdown",
   "metadata": {},
   "source": [
    "\n",
    "You can see example of isomorphism checker below. Input format should be like that; { dimensions , rows }"
   ]
  },
  {
   "cell_type": "code",
   "execution_count": 25,
   "metadata": {},
   "outputs": [],
   "source": [
    "import numpy as np\n",
    "\n",
    "def is_one_to_one(A):\n",
    "  # Get the number of rows and columns in A\n",
    "  m, n = A.shape\n",
    "  \n",
    "  # Go through each row of A\n",
    "  for i in range(m):\n",
    "    # Check if there is a pivot in this row\n",
    "    has_pivot = False\n",
    "    for j in range(n):\n",
    "      if A[i,j] != 0:\n",
    "        has_pivot = True\n",
    "        break\n",
    "    # If there is no pivot in this row, then the transformation is not one-to-one\n",
    "    if not has_pivot:\n",
    "      return False\n",
    "  # If we get through all the rows and find a pivot in each one, then the transformation is one-to-one\n",
    "  return True"
   ]
  },
  {
   "attachments": {},
   "cell_type": "markdown",
   "metadata": {},
   "source": [
    "Check onto"
   ]
  },
  {
   "cell_type": "code",
   "execution_count": 22,
   "metadata": {},
   "outputs": [],
   "source": [
    "def is_onto(A, B):\n",
    "  # Get the dimensions of the target space B\n",
    "  m, n = B.shape\n",
    "  \n",
    "  # Compute the range of the transformation\n",
    "  range_A = np.linalg.matrix_rank(A)\n",
    "  \n",
    "  # Check if the range of the transformation is equal to the target space\n",
    "  return range_A == (m, n)"
   ]
  },
  {
   "attachments": {},
   "cell_type": "markdown",
   "metadata": {},
   "source": [
    "Input function and Output"
   ]
  },
  {
   "cell_type": "code",
   "execution_count": 45,
   "metadata": {},
   "outputs": [
    {
     "name": "stdout",
     "output_type": "stream",
     "text": [
      "One to one :  True \n",
      "Onto :  [False False]\n"
     ]
    }
   ],
   "source": [
    "# Function to read a matrix from the user\n",
    "def read_matrix():\n",
    "  # Get the dimensions of the matrix\n",
    "  m, n = map(int, input(\"Enter the dimensions of the matrix (m n): \").split())\n",
    "  \n",
    "  # Initialize an empty matrix\n",
    "  matrix = []\n",
    "  \n",
    "  # Read the rows of the matrix\n",
    "  for i in range(m):\n",
    "    row = list(map(float, input(f\"Enter row {i+1} of the matrix: \").split()))\n",
    "    matrix.append(row)\n",
    "  \n",
    "  # Convert the list of lists to a numpy array and return it\n",
    "  return np.array(matrix)\n",
    "\n",
    "# Read two matrices from the user\n",
    "A = read_matrix()\n",
    "B = read_matrix()\n",
    "\n",
    "''' Example\n",
    "A = np.array([[1, 0], [0, 0]])\n",
    "B = np.array([[1, 0], [0, 1]])\n",
    "print(is_one_to_one(A))  # True\n",
    "print(is_onto(A, B))  # True     \n",
    "\n",
    "A = np.array([[1, 0], [1, 0]]) \n",
    "print(is_one_to_one(A))  # True\n",
    "print(is_onto(A, B))  # False \n",
    "\n",
    "A = 1,0 0,0\n",
    "is_one_to_one # false\n",
    "is_onto # false '''\n",
    "\n",
    "\n",
    "if((is_one_to_one(A) & is_onto(A,B)).all() == True):\n",
    "    print(\"## Isomorphic ##\")\n",
    "else:\n",
    "    print(\"One to one : \",is_one_to_one(A),\"\\n\"+\"Onto : \",is_onto(A,B))\n",
    "\n"
   ]
  },
  {
   "attachments": {},
   "cell_type": "markdown",
   "metadata": {},
   "source": [
    "References:\n",
    "\n",
    "- https://www.britannica.com/science/isomorphism-mathematics\n",
    "- http://www2.clarku.edu/~djoyce/ma130/isomorphism.pdf\n",
    "- https://math.libretexts.org/Bookshelves/Linear_Algebra/A_First_Course_in_Linear_Algebra_(Kuttler)/05:_Linear_Transformations/5.06:_Isomorphisms"
   ]
  }
 ],
 "metadata": {
  "kernelspec": {
   "display_name": "base",
   "language": "python",
   "name": "python3"
  },
  "language_info": {
   "codemirror_mode": {
    "name": "ipython",
    "version": 3
   },
   "file_extension": ".py",
   "mimetype": "text/x-python",
   "name": "python",
   "nbconvert_exporter": "python",
   "pygments_lexer": "ipython3",
   "version": "3.9.12 (main, Apr  4 2022, 05:22:27) [MSC v.1916 64 bit (AMD64)]"
  },
  "orig_nbformat": 4,
  "vscode": {
   "interpreter": {
    "hash": "4ac976f33923b182da07814ab290be6da73c97e6fea2e558a2c3a3323216d38c"
   }
  }
 },
 "nbformat": 4,
 "nbformat_minor": 2
}
