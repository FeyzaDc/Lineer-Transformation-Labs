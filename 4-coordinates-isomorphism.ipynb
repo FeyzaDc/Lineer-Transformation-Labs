{
 "cells": [
  {
   "attachments": {},
   "cell_type": "markdown",
   "metadata": {},
   "source": [
    "###### This lab was prepared by Feyza Decdeli and Ali Rıza Girişen | Jan 2023"
   ]
  },
  {
   "attachments": {},
   "cell_type": "markdown",
   "metadata": {},
   "source": [
    "## Coordinates and Isomorphisms\n",
    "\n"
   ]
  },
  {
   "attachments": {},
   "cell_type": "markdown",
   "metadata": {},
   "source": [
    "Isomorphism, in modern algebra, a one-to-one correspondence (mapping) between two sets that preserves binary relationships between elements of the sets. For example, the set of natural numbers can be mapped onto the set of even natural numbers by multiplying each natural number by 2."
   ]
  },
  {
   "cell_type": "code",
   "execution_count": 7,
   "metadata": {},
   "outputs": [
    {
     "ename": "ModuleNotFoundError",
     "evalue": "No module named 'numpy'",
     "output_type": "error",
     "traceback": [
      "\u001b[1;31m---------------------------------------------------------------------------\u001b[0m",
      "\u001b[1;31mModuleNotFoundError\u001b[0m                       Traceback (most recent call last)",
      "Cell \u001b[1;32mIn[7], line 1\u001b[0m\n\u001b[1;32m----> 1\u001b[0m \u001b[39mimport\u001b[39;00m \u001b[39mnumpy\u001b[39;00m \u001b[39mas\u001b[39;00m \u001b[39mnp\u001b[39;00m\n\u001b[0;32m      3\u001b[0m \u001b[39mdef\u001b[39;00m \u001b[39mis_one_to_one\u001b[39m(A):\n\u001b[0;32m      4\u001b[0m   \u001b[39m# Get the number of rows and columns in A\u001b[39;00m\n\u001b[0;32m      5\u001b[0m   m, n \u001b[39m=\u001b[39m A\u001b[39m.\u001b[39mshape\n",
      "\u001b[1;31mModuleNotFoundError\u001b[0m: No module named 'numpy'"
     ]
    }
   ],
   "source": [
    "import numpy as np\n",
    "\n",
    "def is_one_to_one(A):\n",
    "  # Get the number of rows and columns in A\n",
    "  m, n = A.shape\n",
    "  \n",
    "  # Go through each row of A\n",
    "  for i in range(m):\n",
    "    # Check if there is a pivot in this row\n",
    "    has_pivot = False\n",
    "    for j in range(n):\n",
    "      if A[i,j] != 0:\n",
    "        has_pivot = True\n",
    "        break\n",
    "    # If there is no pivot in this row, then the transformation is not one-to-one\n",
    "    if not has_pivot:\n",
    "      return False\n",
    "  # If we get through all the rows and find a pivot in each one, then the transformation is one-to-one\n",
    "  return True"
   ]
  },
  {
   "cell_type": "code",
   "execution_count": 7,
   "metadata": {},
   "outputs": [],
   "source": [
    "def is_onto(A, B):\n",
    "  # Get the dimensions of the target space B\n",
    "  m, n = B.shape\n",
    "  \n",
    "  # Compute the range of the transformation\n",
    "  range_A = np.linalg.range(A)\n",
    "  \n",
    "  # Check if the range of the transformation is equal to the target space\n",
    "  return range_A == (m, n)"
   ]
  },
  {
   "cell_type": "code",
   "execution_count": 8,
   "metadata": {},
   "outputs": [
    {
     "ename": "ModuleNotFoundError",
     "evalue": "No module named 'numpy'",
     "output_type": "error",
     "traceback": [
      "\u001b[1;31m---------------------------------------------------------------------------\u001b[0m",
      "\u001b[1;31mModuleNotFoundError\u001b[0m                       Traceback (most recent call last)",
      "Cell \u001b[1;32mIn[8], line 1\u001b[0m\n\u001b[1;32m----> 1\u001b[0m \u001b[39mimport\u001b[39;00m \u001b[39mnumpy\u001b[39;00m \u001b[39mas\u001b[39;00m \u001b[39mnp\u001b[39;00m\n\u001b[0;32m      2\u001b[0m \u001b[39m# Example usage\u001b[39;00m\n\u001b[0;32m      3\u001b[0m A \u001b[39m=\u001b[39m np\u001b[39m.\u001b[39marray([[\u001b[39m1\u001b[39m, \u001b[39m0\u001b[39m], [\u001b[39m0\u001b[39m, \u001b[39m1\u001b[39m]])\n",
      "\u001b[1;31mModuleNotFoundError\u001b[0m: No module named 'numpy'"
     ]
    }
   ],
   "source": [
    "# Example usage\n",
    "A = np.array([[1, 0], [0, 1]])\n",
    "B = np.array([[1, 0], [0, 1]])\n",
    "print(is_one_to_one(A))  # True\n",
    "print(is_onto(A, B))  # True\n",
    "\n",
    "A = np.array([[1, 0], [0, 0]])\n",
    "print(is_one_to_one(A))  # False\n",
    "print(is_onto(A, B))  # False\n",
    "\n",
    "print(\"matrix a:\")\n",
    "print(A)"
   ]
  },
  {
   "cell_type": "code",
   "execution_count": null,
   "metadata": {},
   "outputs": [],
   "source": [
    "import numpy as np\n",
    "\n",
    "# Function to read a matrix from the user\n",
    "def read_matrix():\n",
    "  # Get the dimensions of the matrix\n",
    "  m, n = map(int, input(\"Enter the dimensions of the matrix (m n): \").split())\n",
    "  \n",
    "  # Initialize an empty matrix\n",
    "  matrix = []\n",
    "  \n",
    "  # Read the rows of the matrix\n",
    "  for i in range(m):\n",
    "    row = list(map(float, input(f\"Enter row {i+1} of the matrix: \").split()))\n",
    "    matrix.append(row)\n",
    "  \n",
    "  # Convert the list of lists to a numpy array and return it\n",
    "  return np.array(matrix)\n",
    "\n",
    "# Read two matrices from the user\n",
    "A = read_matrix()\n",
    "B = read_matrix()\n",
    "\n",
    "# Print the matrices\n",
    "print(\"Matrix A:\")\n",
    "print(A)\n",
    "print(\"Matrix B:\")\n",
    "print(B)"
   ]
  },
  {
   "attachments": {},
   "cell_type": "markdown",
   "metadata": {},
   "source": [
    "References:\n",
    "\n",
    "- https://www.britannica.com/science/isomorphism-mathematics"
   ]
  }
 ],
 "metadata": {
  "kernelspec": {
   "display_name": "Python 3",
   "language": "python",
   "name": "python3"
  },
  "language_info": {
   "codemirror_mode": {
    "name": "ipython",
    "version": 3
   },
   "file_extension": ".py",
   "mimetype": "text/x-python",
   "name": "python",
   "nbconvert_exporter": "python",
   "pygments_lexer": "ipython3",
   "version": "3.11.1"
  },
  "orig_nbformat": 4,
  "vscode": {
   "interpreter": {
    "hash": "a73992feb597e6b5a3c026983d0a9568f1f373f035a74fc5362d2cdca5b775f0"
   }
  }
 },
 "nbformat": 4,
 "nbformat_minor": 2
}
