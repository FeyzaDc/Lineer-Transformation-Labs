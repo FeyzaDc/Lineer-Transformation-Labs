{
 "cells": [
  {
   "attachments": {},
   "cell_type": "markdown",
   "metadata": {},
   "source": [
    "###### This lab was prepared by Feyza Decdeli and Ali Rıza Girişen | Jan 2023"
   ]
  },
  {
   "attachments": {},
   "cell_type": "markdown",
   "metadata": {},
   "source": [
    "## Coordinates and Isomorphisms\n",
    "\n"
   ]
  },
  {
   "attachments": {},
   "cell_type": "markdown",
   "metadata": {},
   "source": [
    "Isomorphism, in modern algebra, a one-to-one correspondence (mapping) between two sets that preserves binary relationships between elements of the sets. For example, the set of natural numbers can be mapped onto the set of even natural numbers by multiplying each natural number by 2."
   ]
  },
  {
   "cell_type": "code",
   "execution_count": null,
   "metadata": {},
   "outputs": [],
   "source": []
  },
  {
   "attachments": {},
   "cell_type": "markdown",
   "metadata": {},
   "source": [
    "References:\n",
    "\n",
    "- https://www.britannica.com/science/isomorphism-mathematics"
   ]
  }
 ],
 "metadata": {
  "kernelspec": {
   "display_name": "Python 3",
   "language": "python",
   "name": "python3"
  },
  "language_info": {
   "name": "python",
   "version": "3.11.1 (tags/v3.11.1:a7a450f, Dec  6 2022, 19:58:39) [MSC v.1934 64 bit (AMD64)]"
  },
  "orig_nbformat": 4,
  "vscode": {
   "interpreter": {
    "hash": "a73992feb597e6b5a3c026983d0a9568f1f373f035a74fc5362d2cdca5b775f0"
   }
  }
 },
 "nbformat": 4,
 "nbformat_minor": 2
}
